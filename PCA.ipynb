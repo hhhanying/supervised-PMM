{
 "cells": [
  {
   "cell_type": "code",
   "execution_count": 20,
   "metadata": {},
   "outputs": [],
   "source": [
    "# import packages\n",
    "import numpy as np\n",
    "import seaborn as sns\n",
    "from scipy.stats import wishart, dirichlet, expon, norm\n",
    "import scipy.special as sc\n",
    "import matplotlib.pyplot as plt\n",
    "from mpl_toolkits.mplot3d import Axes3D \n",
    "import dirichlet\n",
    "from sklearn.decomposition import PCA\n",
    "from sklearn.linear_model import LogisticRegression"
   ]
  },
  {
   "cell_type": "code",
   "execution_count": 53,
   "metadata": {},
   "outputs": [],
   "source": [
    "def para_x(u, s2, tao):\n",
    "    lambdax = np.dot(s2.T, u).reshape(d,d)\n",
    "    sx = np.linalg.inv(lambdax) # variance of x\n",
    "    taox = np.dot(tao.T, u) # sum_j(u_j * tao_j)\n",
    "    mux = np.dot(sx, taox) # mu(x)\n",
    "    return sx, mux \n",
    "def document_generator(a, rho, T, s2, tao, N):\n",
    "    '''\n",
    "    Given the corpus, generate more documents.\n",
    "    All corpus-level parameters are given.\n",
    "    N: the number of documents.\n",
    "    \n",
    "    output: \n",
    "    X: N*d, X[i] = document[i]\n",
    "    Y: Y[i] = label[i]\n",
    "    G: membership\n",
    "    U: transformed membership\n",
    "    '''\n",
    "\n",
    "    nlabel = len(T) # number of y\n",
    "    d = len(tao[0]) # dim(x)\n",
    "    \n",
    "    Y = np.random.choice(list(range(nlabel)),N) # labels\n",
    "    G = np.random.dirichlet(a*rho,N)\n",
    "    U = np.array([np.dot(T[Y[i]], G[i]) for i in range(N)])\n",
    "\n",
    "    X = []\n",
    "    \n",
    "    for i in range(N):\n",
    "        sx, mux = para_x(U[i], s2, tao)\n",
    "        X.append(np.random.multivariate_normal(mux, sx))\n",
    "    X = np.array(X)\n",
    "\n",
    "    return X, Y, G, U\n",
    "\n",
    "def check_p(a, rho, mu, s_inv):\n",
    "    '''\n",
    "    Input: the parameters used in the data\n",
    "    1. Check whether a and rho will generate extremely small g\n",
    "    2. See distributions of different topics\n",
    "    '''\n",
    "    ntopic = len(mu)\n",
    "    g = np.random.dirichlet(a*rho, 100)\n",
    "#     print(\"The minimum component of g is\",g.min())\n",
    "    \n",
    "    print(\"Distribution of pure types\")\n",
    "    s = [np.linalg.inv(i) for i in s_inv]\n",
    "    pX = np.concatenate(tuple([np.random.multivariate_normal(mu[i], s[i], 100) for i in range(ntopic)]))\n",
    "    pY = [[i]*100 for i in range(ntopic)]\n",
    "    fig_pure_type = plt.figure()\n",
    "    ax = Axes3D(fig_pure_type)\n",
    "    ax.scatter(pX[:, 0], pX[:, 1], pX[:, 2], c = pY)\n",
    "    plt.show()"
   ]
  },
  {
   "cell_type": "code",
   "execution_count": 65,
   "metadata": {},
   "outputs": [
    {
     "name": "stdout",
     "output_type": "stream",
     "text": [
      "the value of a: 16.71234142066835\n"
     ]
    }
   ],
   "source": [
    "# set parameters\n",
    "d = 30\n",
    "k0, k1 = 2,5\n",
    "nlabel = 3\n",
    "alpha = np.ones(7)\n",
    "b = 0.1\n",
    "para_topic = [np.zeros(d),0.1,np.eye(d)/3/d, 3*d]\n",
    "N, sigmaa, sigmarho, sigmag, nconverge, nskip, nsave =  1000, 1,0.1,0.1,10, 10,500\n",
    "# define T\n",
    "dg = k0 + k1 \n",
    "ntopic = nlabel*k0+k1\n",
    "T = []\n",
    "for i in range(nlabel):\n",
    "    tem = np.block([\n",
    "        [np.zeros((k0*i,k0+k1))],\n",
    "        [np.eye(k0), np.zeros((k0, k1))],\n",
    "        [np.zeros((k0*(nlabel-i-1),k0+k1))],\n",
    "        [np.zeros((k1,k0)), np.eye(k1)]\n",
    "    ])\n",
    "    T.append(tem)\n",
    "# draw corpus-level parameters\n",
    "rho = np.random.dirichlet(alpha, 1)[0]\n",
    "a = np.random.exponential(1/b,1)[0]\n",
    "\n",
    "mu0, lambda0, W, nu = para_topic\n",
    "d = len(mu0)\n",
    "s_inv = wishart.rvs(df = nu, scale = W, size=ntopic) # sigma inverse\n",
    "mu = np.array([np.random.multivariate_normal(mu0, 1/lambda0*np.linalg.inv(i)) for i in s_inv])    \n",
    "s2 = np.array([i.flatten() for i in s_inv]) # flatten s_inv, s2[i].reshape(d,d) = s_inv[i]\n",
    "tao = np.array([np.dot(s_inv[i], mu[i]) for i in range(ntopic)]) # sigma^-1 mu    \n",
    "# generate data\n",
    "X, Y, G, U = document_generator(a, rho, T, s2, tao, N)\n",
    "print(\"the value of a:\", a)\n",
    "# trueU = sns.heatmap(np.dot(U,U.T))\n",
    "# plt.title(\"true membership\")\n",
    "# plt.show()\n",
    "# check_p(a, rho, mu, s_inv)"
   ]
  },
  {
   "cell_type": "code",
   "execution_count": 66,
   "metadata": {},
   "outputs": [
    {
     "name": "stdout",
     "output_type": "stream",
     "text": [
      "(1000, 20)\n",
      "(500,)\n",
      "training accuracy:  0.99\n",
      "test accuracy:  0.964\n"
     ]
    }
   ],
   "source": [
    "pca = PCA(n_components=20)\n",
    "feature = pca.fit_transform(X)\n",
    "print(feature.shape)\n",
    "n = N//2\n",
    "trainX = feature[:n]\n",
    "testX = feature[n:]\n",
    "trainY = Y[:n]\n",
    "print(trainY.shape)\n",
    "testY = Y[n:]\n",
    "model = LogisticRegression(multi_class='multinomial')\n",
    "model.fit(trainX, trainY)\n",
    "print(\"training accuracy: \",model.score(trainX, trainY))\n",
    "print(\"test accuracy: \", model.score(testX, testY))"
   ]
  },
  {
   "cell_type": "code",
   "execution_count": 68,
   "metadata": {},
   "outputs": [
    {
     "name": "stdout",
     "output_type": "stream",
     "text": [
      "(1000, 7)\n",
      "(500,)\n",
      "training accuracy:  0.972\n",
      "test accuracy:  0.966\n"
     ]
    }
   ],
   "source": [
    "pca = PCA(n_components=7)\n",
    "feature = pca.fit_transform(X)\n",
    "print(feature.shape)\n",
    "n = N//2\n",
    "trainX = feature[:n]\n",
    "testX = feature[n:]\n",
    "trainY = Y[:n]\n",
    "print(trainY.shape)\n",
    "testY = Y[n:]\n",
    "model = LogisticRegression(multi_class='multinomial')\n",
    "model.fit(trainX, trainY)\n",
    "print(\"training accuracy: \",model.score(trainX, trainY))\n",
    "print(\"test accuracy: \", model.score(testX, testY))"
   ]
  },
  {
   "cell_type": "code",
   "execution_count": 70,
   "metadata": {},
   "outputs": [
    {
     "name": "stdout",
     "output_type": "stream",
     "text": [
      "(1000, 1)\n",
      "(500,)\n",
      "training accuracy:  0.74\n",
      "test accuracy:  0.746\n"
     ]
    }
   ],
   "source": [
    "pca = PCA(n_components=1)\n",
    "feature = pca.fit_transform(X)\n",
    "print(feature.shape)\n",
    "n = N//2\n",
    "trainX = feature[:n]\n",
    "testX = feature[n:]\n",
    "trainY = Y[:n]\n",
    "print(trainY.shape)\n",
    "testY = Y[n:]\n",
    "model = LogisticRegression(multi_class='multinomial')\n",
    "model.fit(trainX, trainY)\n",
    "print(\"training accuracy: \",model.score(trainX, trainY))\n",
    "print(\"test accuracy: \", model.score(testX, testY))"
   ]
  },
  {
   "cell_type": "code",
   "execution_count": 76,
   "metadata": {},
   "outputs": [
    {
     "name": "stdout",
     "output_type": "stream",
     "text": [
      "(1000, 2)\n",
      "(500,)\n",
      "training accuracy:  0.904\n",
      "test accuracy:  0.882\n"
     ]
    },
    {
     "data": {
      "image/png": "[encoded data removed]",
      "text/plain": [
       "<Figure size 432x288 with 1 Axes>"
      ]
     },
     "metadata": {
      "needs_background": "light"
     },
     "output_type": "display_data"
    }
   ],
   "source": [
    "pca = PCA(n_components=2)\n",
    "feature = pca.fit_transform(X)\n",
    "print(feature.shape)\n",
    "n = N//2\n",
    "trainX = feature[:n]\n",
    "testX = feature[n:]\n",
    "trainY = Y[:n]\n",
    "print(trainY.shape)\n",
    "testY = Y[n:]\n",
    "model = LogisticRegression(multi_class='multinomial')\n",
    "model.fit(trainX, trainY)\n",
    "print(\"training accuracy: \",model.score(trainX, trainY))\n",
    "print(\"test accuracy: \", model.score(testX, testY))\n",
    "plt.scatter(trainX[:,0], trainX[:,1],c=trainY, s=5)\n",
    "# plt.title(\"estimation error of rho\")\n",
    "plt.xlabel(\"x1\")\n",
    "plt.ylabel(\"x2\")\n",
    "plt.show()"
   ]
  },
  {
   "cell_type": "code",
   "execution_count": 87,
   "metadata": {},
   "outputs": [
    {
     "name": "stdout",
     "output_type": "stream",
     "text": [
      "the value of a: 1.531087456906219\n"
     ]
    }
   ],
   "source": [
    "# set parameters\n",
    "d = 50\n",
    "k0, k1 = 2,5\n",
    "nlabel = 3\n",
    "alpha = np.ones(7)\n",
    "b = 0.1\n",
    "para_topic = [np.zeros(d),0.1,np.eye(d)/3/d, 3*d]\n",
    "N, sigmaa, sigmarho, sigmag, nconverge, nskip, nsave =  1000, 1,0.1,0.1,10, 10,500\n",
    "# define T\n",
    "dg = k0 + k1 \n",
    "ntopic = nlabel*k0+k1\n",
    "T = []\n",
    "for i in range(nlabel):\n",
    "    tem = np.block([\n",
    "        [np.zeros((k0*i,k0+k1))],\n",
    "        [np.eye(k0), np.zeros((k0, k1))],\n",
    "        [np.zeros((k0*(nlabel-i-1),k0+k1))],\n",
    "        [np.zeros((k1,k0)), np.eye(k1)]\n",
    "    ])\n",
    "    T.append(tem)\n",
    "# draw corpus-level parameters\n",
    "rho = np.random.dirichlet(alpha, 1)[0]\n",
    "a = np.random.exponential(1/b,1)[0]\n",
    "\n",
    "mu0, lambda0, W, nu = para_topic\n",
    "d = len(mu0)\n",
    "s_inv = wishart.rvs(df = nu, scale = W, size=ntopic) # sigma inverse\n",
    "mu = np.array([np.random.multivariate_normal(mu0, 1/lambda0*np.linalg.inv(i)) for i in s_inv])    \n",
    "s2 = np.array([i.flatten() for i in s_inv]) # flatten s_inv, s2[i].reshape(d,d) = s_inv[i]\n",
    "tao = np.array([np.dot(s_inv[i], mu[i]) for i in range(ntopic)]) # sigma^-1 mu    \n",
    "# generate data\n",
    "X, Y, G, U = document_generator(a, rho, T, s2, tao, N)\n",
    "print(\"the value of a:\", a)"
   ]
  },
  {
   "cell_type": "code",
   "execution_count": 88,
   "metadata": {},
   "outputs": [
    {
     "name": "stdout",
     "output_type": "stream",
     "text": [
      "(1000, 20)\n",
      "(500,)\n",
      "training accuracy:  0.654\n",
      "test accuracy:  0.606\n"
     ]
    }
   ],
   "source": [
    "pca = PCA(n_components=20)\n",
    "feature = pca.fit_transform(X)\n",
    "print(feature.shape)\n",
    "n = N//2\n",
    "trainX = feature[:n]\n",
    "testX = feature[n:]\n",
    "trainY = Y[:n]\n",
    "print(trainY.shape)\n",
    "testY = Y[n:]\n",
    "model = LogisticRegression(multi_class='multinomial')\n",
    "model.fit(trainX, trainY)\n",
    "print(\"training accuracy: \",model.score(trainX, trainY))\n",
    "print(\"test accuracy: \", model.score(testX, testY))"
   ]
  },
  {
   "cell_type": "code",
   "execution_count": 89,
   "metadata": {},
   "outputs": [
    {
     "name": "stdout",
     "output_type": "stream",
     "text": [
      "(1000, 10)\n",
      "(500,)\n",
      "training accuracy:  0.65\n",
      "test accuracy:  0.586\n"
     ]
    }
   ],
   "source": [
    "pca = PCA(n_components=10)\n",
    "feature = pca.fit_transform(X)\n",
    "print(feature.shape)\n",
    "n = N//2\n",
    "trainX = feature[:n]\n",
    "testX = feature[n:]\n",
    "trainY = Y[:n]\n",
    "print(trainY.shape)\n",
    "testY = Y[n:]\n",
    "model = LogisticRegression(multi_class='multinomial')\n",
    "model.fit(trainX, trainY)\n",
    "print(\"training accuracy: \",model.score(trainX, trainY))\n",
    "print(\"test accuracy: \", model.score(testX, testY))"
   ]
  },
  {
   "cell_type": "code",
   "execution_count": 81,
   "metadata": {},
   "outputs": [
    {
     "name": "stdout",
     "output_type": "stream",
     "text": [
      "(100, 7)\n",
      "(50,)\n",
      "training accuracy:  0.64\n",
      "test accuracy:  0.58\n"
     ]
    }
   ],
   "source": [
    "pca = PCA(n_components=7)\n",
    "feature = pca.fit_transform(X)\n",
    "print(feature.shape)\n",
    "n = N//2\n",
    "trainX = feature[:n]\n",
    "testX = feature[n:]\n",
    "trainY = Y[:n]\n",
    "print(trainY.shape)\n",
    "testY = Y[n:]\n",
    "model = LogisticRegression(multi_class='multinomial')\n",
    "model.fit(trainX, trainY)\n",
    "print(\"training accuracy: \",model.score(trainX, trainY))\n",
    "print(\"test accuracy: \", model.score(testX, testY))"
   ]
  },
  {
   "cell_type": "code",
   "execution_count": 91,
   "metadata": {},
   "outputs": [
    {
     "name": "stdout",
     "output_type": "stream",
     "text": [
      "(1000, 2)\n",
      "(500,)\n",
      "training accuracy:  0.378\n",
      "test accuracy:  0.41\n"
     ]
    },
    {
     "data": {
      "image/png": "[encoded data removed]",
      "text/plain": [
       "<Figure size 432x288 with 1 Axes>"
      ]
     },
     "metadata": {
      "needs_background": "light"
     },
     "output_type": "display_data"
    }
   ],
   "source": [
    "pca = PCA(n_components=2)\n",
    "feature = pca.fit_transform(X)\n",
    "print(feature.shape)\n",
    "n = N//2\n",
    "trainX = feature[:n]\n",
    "testX = feature[n:]\n",
    "trainY = Y[:n]\n",
    "print(trainY.shape)\n",
    "testY = Y[n:]\n",
    "model = LogisticRegression(multi_class='multinomial')\n",
    "model.fit(trainX, trainY)\n",
    "print(\"training accuracy: \",model.score(trainX, trainY))\n",
    "print(\"test accuracy: \", model.score(testX, testY))\n",
    "plt.scatter(trainX[:,0], trainX[:,1],c=trainY, s=5)\n",
    "# plt.title(\"estimation error of rho\")\n",
    "plt.xlabel(\"x1\")\n",
    "plt.ylabel(\"x2\")\n",
    "plt.show()"
   ]
  },
  {
   "cell_type": "code",
   "execution_count": 92,
   "metadata": {},
   "outputs": [
    {
     "name": "stdout",
     "output_type": "stream",
     "text": [
      "the value of a: 1.293248548409872\n"
     ]
    }
   ],
   "source": [
    "# set parameters\n",
    "d = 100\n",
    "k0, k1 = 2,5\n",
    "nlabel = 3\n",
    "alpha = np.ones(7)\n",
    "b = 0.1\n",
    "para_topic = [np.zeros(d),0.1,np.eye(d)/3/d, 3*d]\n",
    "N, sigmaa, sigmarho, sigmag, nconverge, nskip, nsave =  1000, 1,0.1,0.1,10, 10,500\n",
    "# define T\n",
    "dg = k0 + k1 \n",
    "ntopic = nlabel*k0+k1\n",
    "T = []\n",
    "for i in range(nlabel):\n",
    "    tem = np.block([\n",
    "        [np.zeros((k0*i,k0+k1))],\n",
    "        [np.eye(k0), np.zeros((k0, k1))],\n",
    "        [np.zeros((k0*(nlabel-i-1),k0+k1))],\n",
    "        [np.zeros((k1,k0)), np.eye(k1)]\n",
    "    ])\n",
    "    T.append(tem)\n",
    "# draw corpus-level parameters\n",
    "rho = np.random.dirichlet(alpha, 1)[0]\n",
    "a = np.random.exponential(1/b,1)[0]\n",
    "\n",
    "mu0, lambda0, W, nu = para_topic\n",
    "d = len(mu0)\n",
    "s_inv = wishart.rvs(df = nu, scale = W, size=ntopic) # sigma inverse\n",
    "mu = np.array([np.random.multivariate_normal(mu0, 1/lambda0*np.linalg.inv(i)) for i in s_inv])    \n",
    "s2 = np.array([i.flatten() for i in s_inv]) # flatten s_inv, s2[i].reshape(d,d) = s_inv[i]\n",
    "tao = np.array([np.dot(s_inv[i], mu[i]) for i in range(ntopic)]) # sigma^-1 mu    \n",
    "# generate data\n",
    "X, Y, G, U = document_generator(a, rho, T, s2, tao, N)\n",
    "print(\"the value of a:\", a)\n",
    "# trueU = sns.heatmap(np.dot(U,U.T))\n",
    "# plt.title(\"true membership\")\n",
    "# plt.show()\n",
    "# check_p(a, rho, mu, s_inv)"
   ]
  },
  {
   "cell_type": "code",
   "execution_count": 94,
   "metadata": {},
   "outputs": [
    {
     "name": "stdout",
     "output_type": "stream",
     "text": [
      "(1000, 20)\n",
      "(500,)\n",
      "training accuracy:  0.682\n",
      "test accuracy:  0.634\n"
     ]
    }
   ],
   "source": [
    "pca = PCA(n_components=20)\n",
    "feature = pca.fit_transform(X)\n",
    "print(feature.shape)\n",
    "n = N//2\n",
    "trainX = feature[:n]\n",
    "testX = feature[n:]\n",
    "trainY = Y[:n]\n",
    "print(trainY.shape)\n",
    "testY = Y[n:]\n",
    "model = LogisticRegression(multi_class='multinomial')\n",
    "model.fit(trainX, trainY)\n",
    "print(\"training accuracy: \",model.score(trainX, trainY))\n",
    "print(\"test accuracy: \", model.score(testX, testY))"
   ]
  },
  {
   "cell_type": "code",
   "execution_count": 108,
   "metadata": {},
   "outputs": [
    {
     "name": "stdout",
     "output_type": "stream",
     "text": [
      "the value of a: 3.3340691389019335\n"
     ]
    }
   ],
   "source": [
    "# set parameters\n",
    "d = 100\n",
    "k0, k1 = 2,5\n",
    "nlabel = 7\n",
    "alpha = np.ones(7)\n",
    "b = 0.1\n",
    "para_topic = [np.zeros(d),0.1,np.eye(d)/3/d, 3*d]\n",
    "N, sigmaa, sigmarho, sigmag, nconverge, nskip, nsave =  1000, 1,0.1,0.1,10, 10,500\n",
    "# define T\n",
    "dg = k0 + k1 \n",
    "ntopic = nlabel*k0+k1\n",
    "T = []\n",
    "for i in range(nlabel):\n",
    "    tem = np.block([\n",
    "        [np.zeros((k0*i,k0+k1))],\n",
    "        [np.eye(k0), np.zeros((k0, k1))],\n",
    "        [np.zeros((k0*(nlabel-i-1),k0+k1))],\n",
    "        [np.zeros((k1,k0)), np.eye(k1)]\n",
    "    ])\n",
    "    T.append(tem)\n",
    "# draw corpus-level parameters\n",
    "rho = np.random.dirichlet(alpha, 1)[0]\n",
    "a = np.random.exponential(1/b,1)[0]\n",
    "\n",
    "mu0, lambda0, W, nu = para_topic\n",
    "d = len(mu0)\n",
    "s_inv = wishart.rvs(df = nu, scale = W, size=ntopic) # sigma inverse\n",
    "mu = np.array([np.random.multivariate_normal(mu0, 1/lambda0*np.linalg.inv(i)) for i in s_inv])    \n",
    "s2 = np.array([i.flatten() for i in s_inv]) # flatten s_inv, s2[i].reshape(d,d) = s_inv[i]\n",
    "tao = np.array([np.dot(s_inv[i], mu[i]) for i in range(ntopic)]) # sigma^-1 mu    \n",
    "# generate data\n",
    "X, Y, G, U = document_generator(a, rho, T, s2, tao, N)\n",
    "print(\"the value of a:\", a)\n",
    "# trueU = sns.heatmap(np.dot(U,U.T))\n",
    "# plt.title(\"true membership\")\n",
    "# plt.show()\n",
    "# check_p(a, rho, mu, s_inv)"
   ]
  },
  {
   "cell_type": "code",
   "execution_count": 109,
   "metadata": {},
   "outputs": [
    {
     "name": "stdout",
     "output_type": "stream",
     "text": [
      "(1000, 20)\n",
      "(500,)\n",
      "training accuracy:  0.364\n",
      "test accuracy:  0.25\n"
     ]
    }
   ],
   "source": [
    "pca = PCA(n_components=20)\n",
    "feature = pca.fit_transform(X)\n",
    "print(feature.shape)\n",
    "n = N//2\n",
    "trainX = feature[:n]\n",
    "testX = feature[n:]\n",
    "trainY = Y[:n]\n",
    "print(trainY.shape)\n",
    "testY = Y[n:]\n",
    "model = LogisticRegression(multi_class='multinomial')\n",
    "model.fit(trainX, trainY)\n",
    "print(\"training accuracy: \",model.score(trainX, trainY))\n",
    "print(\"test accuracy: \", model.score(testX, testY))"
   ]
  },
  {
   "cell_type": "code",
   "execution_count": 114,
   "metadata": {},
   "outputs": [
    {
     "name": "stdout",
     "output_type": "stream",
     "text": [
      "the value of a: 20.341964899025697\n",
      "(1000, 20)\n",
      "(500,)\n",
      "training accuracy:  1.0\n",
      "test accuracy:  1.0\n"
     ]
    }
   ],
   "source": [
    "# set parameters\n",
    "d = 100\n",
    "k0, k1 = 5,2\n",
    "nlabel = 7\n",
    "alpha = np.ones(7)\n",
    "b = 0.1\n",
    "para_topic = [np.zeros(d),0.1,np.eye(d)/3/d, 3*d]\n",
    "N, sigmaa, sigmarho, sigmag, nconverge, nskip, nsave =  1000, 1,0.1,0.1,10, 10,500\n",
    "# define T\n",
    "dg = k0 + k1 \n",
    "ntopic = nlabel*k0+k1\n",
    "T = []\n",
    "for i in range(nlabel):\n",
    "    tem = np.block([\n",
    "        [np.zeros((k0*i,k0+k1))],\n",
    "        [np.eye(k0), np.zeros((k0, k1))],\n",
    "        [np.zeros((k0*(nlabel-i-1),k0+k1))],\n",
    "        [np.zeros((k1,k0)), np.eye(k1)]\n",
    "    ])\n",
    "    T.append(tem)\n",
    "# draw corpus-level parameters\n",
    "rho = np.random.dirichlet(alpha, 1)[0]\n",
    "a = np.random.exponential(1/b,1)[0]\n",
    "\n",
    "mu0, lambda0, W, nu = para_topic\n",
    "d = len(mu0)\n",
    "s_inv = wishart.rvs(df = nu, scale = W, size=ntopic) # sigma inverse\n",
    "mu = np.array([np.random.multivariate_normal(mu0, 1/lambda0*np.linalg.inv(i)) for i in s_inv])    \n",
    "s2 = np.array([i.flatten() for i in s_inv]) # flatten s_inv, s2[i].reshape(d,d) = s_inv[i]\n",
    "tao = np.array([np.dot(s_inv[i], mu[i]) for i in range(ntopic)]) # sigma^-1 mu    \n",
    "# generate data\n",
    "X, Y, G, U = document_generator(a, rho, T, s2, tao, N)\n",
    "print(\"the value of a:\", a)\n",
    "# trueU = sns.heatmap(np.dot(U,U.T))\n",
    "# plt.title(\"true membership\")\n",
    "# plt.show()\n",
    "# check_p(a, rho, mu, s_inv)\n",
    "pca = PCA(n_components=20)\n",
    "feature = pca.fit_transform(X)\n",
    "print(feature.shape)\n",
    "n = N//2\n",
    "trainX = feature[:n]\n",
    "testX = feature[n:]\n",
    "trainY = Y[:n]\n",
    "print(trainY.shape)\n",
    "testY = Y[n:]\n",
    "model = LogisticRegression(multi_class='multinomial')\n",
    "model.fit(trainX, trainY)\n",
    "print(\"training accuracy: \",model.score(trainX, trainY))\n",
    "print(\"test accuracy: \", model.score(testX, testY))"
   ]
  },
  {
   "cell_type": "code",
   "execution_count": null,
   "metadata": {},
   "outputs": [],
   "source": []
  }
 ],
 "metadata": {
  "kernelspec": {
   "display_name": "Python 3",
   "language": "python",
   "name": "python3"
  },
  "language_info": {
   "codemirror_mode": {
    "name": "ipython",
    "version": 3
   },
   "file_extension": ".py",
   "mimetype": "text/x-python",
   "name": "python",
   "nbconvert_exporter": "python",
   "pygments_lexer": "ipython3",
   "version": "3.8.3"
  }
 },
 "nbformat": 4,
 "nbformat_minor": 4
}
