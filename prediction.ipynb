{
 "cells": [
  {
   "cell_type": "code",
   "execution_count": 1,
   "metadata": {},
   "outputs": [],
   "source": [
    "# import packages\n",
    "import numpy as np\n",
    "import seaborn as sns\n",
    "from scipy.stats import wishart, dirichlet, expon, norm\n",
    "import scipy.special as sc\n",
    "import matplotlib.pyplot as plt\n",
    "from mpl_toolkits.mplot3d import Axes3D "
   ]
  },
  {
   "cell_type": "code",
   "execution_count": 2,
   "metadata": {},
   "outputs": [],
   "source": [
    "def para_x(u, s2, tao):\n",
    "    lambdax = np.dot(s2.T, u).reshape(d,d)\n",
    "    sx = np.linalg.inv(lambdax) # variance of x\n",
    "    taox = np.dot(tao.T, u) # sum_j(u_j * tao_j)\n",
    "    mux = np.dot(sx, taox) # mu(x)\n",
    "    return sx, mux \n",
    "def document_generator(a, rho, T, s2, tao, N):\n",
    "    '''\n",
    "    Given the corpus, generate more documents.\n",
    "    All corpus-level parameters are given.\n",
    "    N: the number of documents.\n",
    "    \n",
    "    output: \n",
    "    X: N*d, X[i] = document[i]\n",
    "    Y: Y[i] = label[i]\n",
    "    G: membership\n",
    "    U: transformed membership\n",
    "    '''\n",
    "\n",
    "    nlabel = len(T) # number of y\n",
    "    d = len(tao[0]) # dim(x)\n",
    "    \n",
    "    Y = np.random.choice(list(range(nlabel)),N) # labels\n",
    "    G = np.random.dirichlet(a*rho,N)\n",
    "    U = np.array([np.dot(T[Y[i]], G[i]) for i in range(N)])\n",
    "\n",
    "    X = []\n",
    "    \n",
    "    for i in range(N):\n",
    "        sx, mux = para_x(U[i], s2, tao)\n",
    "        X.append(np.random.multivariate_normal(mux, sx))\n",
    "    X = np.array(X)\n",
    "\n",
    "    return X, Y, G, U\n",
    "\n",
    "def check_p(a, rho, mu, s_inv):\n",
    "    '''\n",
    "    Input: the parameters used in the data\n",
    "    1. Check whether a and rho will generate extremely small g\n",
    "    2. See distributions of different topics\n",
    "    '''\n",
    "    ntopic = len(mu)\n",
    "    g = np.random.dirichlet(a*rho, 100)\n",
    "#     print(\"The minimum component of g is\",g.min())\n",
    "    \n",
    "    print(\"Distribution of pure types\")\n",
    "    s = [np.linalg.inv(i) for i in s_inv]\n",
    "    pX = np.concatenate(tuple([np.random.multivariate_normal(mu[i], s[i], 100) for i in range(ntopic)]))\n",
    "    pY = [[i]*100 for i in range(ntopic)]\n",
    "    fig_pure_type = plt.figure()\n",
    "    ax = Axes3D(fig_pure_type)\n",
    "    ax.scatter(pX[:, 0], pX[:, 1], pX[:, 2], c = pY)\n",
    "    plt.show()"
   ]
  },
  {
   "cell_type": "code",
   "execution_count": 16,
   "metadata": {},
   "outputs": [],
   "source": [
    "def simplex_proposal(g, sigma):\n",
    "    '''\n",
    "    g is in simplex\n",
    "    z[i] = log g[i]/g[-1]\n",
    "    draw newz~N(z, sigma*I)\n",
    "    newz -> newg\n",
    "    '''\n",
    "    z = np.log(g[:-1]/g[-1])\n",
    "    newz = np.random.multivariate_normal(z, sigma*np.eye(len(z)))\n",
    "    newg = np.exp(np.append(newz,0))\n",
    "    newg /= newg.sum()\n",
    "    return newg\n",
    "\n",
    "def px(x, u, s2, tao):\n",
    "    # return 0.5*log|lambda_x|-0.5(x-mux)^T*lambda_x*(x-mux)\n",
    "    \n",
    "    lambdax = np.dot(s2.T, u).reshape(d,d)\n",
    "    sx = np.linalg.inv(lambdax) # variance of x\n",
    "    taox = np.dot(tao.T, u) # sum_j(u_j * tao_j)\n",
    "    mux = np.dot(sx, taox) # mu(x)\n",
    "    \n",
    "    return 0.5*np.log(np.linalg.det(lambdax))-0.5*np.dot(np.dot((x-mux).T, lambdax), x-mux)\n",
    "\n",
    "def predict_prob(x,y,a,rho,s2,tao,T,nconverge, nskip, nsave,sigmag):\n",
    "    nlabel = len(T)\n",
    "    dg = len(rho)\n",
    "    ntopic = len(T[0])\n",
    "    d = len(x)\n",
    "    infinity = 10**(-5) # To avoid overflow, if we get g or rho smaller than this\n",
    "    \n",
    "    prob = []\n",
    "    oldg = np.random.dirichlet(np.ones(dg))\n",
    "    oldp = ((a*rho-1)*np.log(oldg)).sum() + px(x, np.dot(T[y], oldg), s2, tao)\n",
    "    \n",
    "    for t in range(nconverge):    \n",
    "        newg = simplex_proposal(oldg, sigmag)\n",
    "        if newg.min()<infinity: newg = (newg + infinity*np.ones(dg))/(1+infinity)\n",
    "        newp = ((a*rho-1)*np.log(newg)).sum() + px(x, np.dot(T[y], newg), s2, tao)\n",
    "        ag = min(1, np.exp(min(1,newp-oldp))) # avoid overflow when newp>>oldp\n",
    "        if np.random.uniform() < ag:\n",
    "            oldg = newg\n",
    "            oldp = newp\n",
    "            \n",
    "        \n",
    "    for step in range(nsave):\n",
    "        for t in range(nskip):\n",
    "            newg = simplex_proposal(oldg, sigmag)\n",
    "            if newg.min()<infinity: newg = (newg + infinity*np.ones(dg))/(1+infinity)\n",
    "            newp = ((a*rho-1)*np.log(newg)).sum() + px(x, np.dot(T[y], newg), s2, tao)\n",
    "            ag = min(1, np.exp(min(1,newp-oldp))) # avoid overflow when newp>>oldp\n",
    "            if np.random.uniform() < ag:\n",
    "                oldg = newg\n",
    "                oldp = newp  \n",
    "        prob.append(newp) \n",
    "    \n",
    "    return sum(prob)/nsave\n",
    "# sss=[1,2,3]\n",
    "# print(mean(sss))"
   ]
  },
  {
   "cell_type": "code",
   "execution_count": 13,
   "metadata": {},
   "outputs": [
    {
     "name": "stdout",
     "output_type": "stream",
     "text": [
      "the value of a: 13.24487022040325\n"
     ]
    }
   ],
   "source": [
    "d = 30\n",
    "k0, k1 = 2,5\n",
    "nlabel = 3\n",
    "alpha = np.ones(7)\n",
    "b = 0.1\n",
    "para_topic = [np.zeros(d),0.1,np.eye(d)/3/d, 3*d]\n",
    "N, sigmaa, sigmarho, sigmag, nconverge, nskip, nsave =  50, 1,1,1,10, 10,500\n",
    "# define T\n",
    "dg = k0 + k1 \n",
    "ntopic = nlabel*k0+k1\n",
    "T = []\n",
    "for i in range(nlabel):\n",
    "    tem = np.block([\n",
    "        [np.zeros((k0*i,k0+k1))],\n",
    "        [np.eye(k0), np.zeros((k0, k1))],\n",
    "        [np.zeros((k0*(nlabel-i-1),k0+k1))],\n",
    "        [np.zeros((k1,k0)), np.eye(k1)]\n",
    "    ])\n",
    "    T.append(tem)\n",
    "# draw corpus-level parameters\n",
    "rho = np.random.dirichlet(alpha, 1)[0]\n",
    "a = np.random.exponential(1/b,1)[0]\n",
    "\n",
    "mu0, lambda0, W, nu = para_topic\n",
    "d = len(mu0)\n",
    "s_inv = wishart.rvs(df = nu, scale = W, size=ntopic) # sigma inverse\n",
    "mu = np.array([np.random.multivariate_normal(mu0, 1/lambda0*np.linalg.inv(i)) for i in s_inv])    \n",
    "s2 = np.array([i.flatten() for i in s_inv]) # flatten s_inv, s2[i].reshape(d,d) = s_inv[i]\n",
    "tao = np.array([np.dot(s_inv[i], mu[i]) for i in range(ntopic)]) # sigma^-1 mu    \n",
    "# generate data\n",
    "X, Y, G, U = document_generator(a, rho, T, s2, tao, N)\n",
    "print(\"the value of a:\", a)"
   ]
  },
  {
   "cell_type": "code",
   "execution_count": 17,
   "metadata": {},
   "outputs": [],
   "source": [
    "prediction = np.zeros((N,nlabel))\n",
    "for i in range(N):\n",
    "    for j in range(nlabel):\n",
    "        prediction[i][j] = predict_prob(X[i],j,a,rho,s2,tao,T,nconverge=500, nskip=10, nsave=100,sigmag=0.05)"
   ]
  },
  {
   "cell_type": "code",
   "execution_count": 21,
   "metadata": {},
   "outputs": [],
   "source": [
    "pred = np.exp(prediction)\n",
    "for i in range(N): pred[i]/=pred[i].sum()"
   ]
  },
  {
   "cell_type": "code",
   "execution_count": 29,
   "metadata": {},
   "outputs": [
    {
     "data": {
      "text/plain": [
       "5.999026145633857e-17"
      ]
     },
     "execution_count": 29,
     "metadata": {},
     "output_type": "execute_result"
    }
   ],
   "source": [
    "trueY = np.zeros((N,nlabel))\n",
    "# print(Y)\n",
    "for i in range(N): trueY[i][Y[i]] = 1\n",
    "# print(trueY)\n",
    "# print(pred)\n",
    "error = trueY-pred\n",
    "error.sum()"
   ]
  },
  {
   "cell_type": "code",
   "execution_count": 30,
   "metadata": {},
   "outputs": [
    {
     "data": {
      "text/plain": [
       "-4.673930909012429e-16"
      ]
     },
     "execution_count": 30,
     "metadata": {},
     "output_type": "execute_result"
    }
   ],
   "source": [
    "prediction = np.zeros((N,nlabel))\n",
    "for i in range(N):\n",
    "    for j in range(nlabel):\n",
    "        prediction[i][j] = predict_prob(X[i],j,5,rho,s2,tao,T,nconverge=500, nskip=10, nsave=100,sigmag=0.05)\n",
    "pred = np.exp(prediction)\n",
    "for i in range(N): pred[i]/=pred[i].sum()\n",
    "trueY = np.zeros((N,nlabel))\n",
    "for i in range(N): trueY[i][Y[i]] = 1\n",
    "error = trueY-pred\n",
    "error.sum()"
   ]
  },
  {
   "cell_type": "code",
   "execution_count": 31,
   "metadata": {},
   "outputs": [
    {
     "data": {
      "text/plain": [
       "-1.1102230246251565e-16"
      ]
     },
     "execution_count": 31,
     "metadata": {},
     "output_type": "execute_result"
    }
   ],
   "source": [
    "prediction = np.zeros((N,nlabel))\n",
    "for i in range(N):\n",
    "    for j in range(nlabel):\n",
    "        prediction[i][j] = predict_prob(X[i],j,1,rho,s2,tao,T,nconverge=500, nskip=10, nsave=100,sigmag=0.05)\n",
    "pred = np.exp(prediction)\n",
    "for i in range(N): pred[i]/=pred[i].sum()\n",
    "trueY = np.zeros((N,nlabel))\n",
    "for i in range(N): trueY[i][Y[i]] = 1\n",
    "error = trueY-pred\n",
    "error.sum()"
   ]
  }
 ],
 "metadata": {
  "kernelspec": {
   "display_name": "Python 3",
   "language": "python",
   "name": "python3"
  },
  "language_info": {
   "codemirror_mode": {
    "name": "ipython",
    "version": 3
   },
   "file_extension": ".py",
   "mimetype": "text/x-python",
   "name": "python",
   "nbconvert_exporter": "python",
   "pygments_lexer": "ipython3",
   "version": "3.8.3"
  }
 },
 "nbformat": 4,
 "nbformat_minor": 4
}
